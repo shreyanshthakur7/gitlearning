{
  "nbformat": 4,
  "nbformat_minor": 0,
  "metadata": {
    "colab": {
      "provenance": [],
      "authorship_tag": "ABX9TyPuO0RBwnkaXTxBskml9pHJ",
      "include_colab_link": true
    },
    "kernelspec": {
      "name": "python3",
      "display_name": "Python 3"
    },
    "language_info": {
      "name": "python"
    }
  },
  "cells": [
    {
      "cell_type": "markdown",
      "metadata": {
        "id": "view-in-github",
        "colab_type": "text"
      },
      "source": [
        "<a href=\"https://colab.research.google.com/github/shreyanshthakur7/gitlearning/blob/main/Untitled0.ipynb\" target=\"_parent\"><img src=\"https://colab.research.google.com/assets/colab-badge.svg\" alt=\"Open In Colab\"/></a>"
      ]
    },
    {
      "cell_type": "code",
      "execution_count": 1,
      "metadata": {
        "colab": {
          "base_uri": "https://localhost:8080/"
        },
        "id": "TS8CB0mwPP1b",
        "outputId": "e6b4e9a1-b802-4145-d55f-ff9949464773"
      },
      "outputs": [
        {
          "output_type": "stream",
          "name": "stdout",
          "text": [
            "Entropy of Result: 1.0\n",
            "Information Gain for U/PA: 0.029\n",
            "Information Gain for Research: 0.029\n",
            "Information Gain for Rec Admit: 0.278\n"
          ]
        }
      ],
      "source": [
        "import pandas as pd\n",
        "import math\n",
        "\n",
        "# Create dataset\n",
        "data = {\n",
        "    'U/PA': ['High','High','High','Low','Low','Low','Low','High','High','Low'],\n",
        "    'Research': ['Yes','No','No','Yes','No','Yes','Yes','No','No','Yes'],\n",
        "    'Rec Admit': ['Strong','Strong','Weak','Weak','Weak','Strong','Weak','Strong','Weak','Strong'],\n",
        "    'Result': ['Yes','Yes','Yes','No','No','Yes','No','No','No','Yes']\n",
        "}\n",
        "\n",
        "df = pd.DataFrame(data)\n",
        "\n",
        "# Function to calculate entropy\n",
        "def entropy(column):\n",
        "    counts = column.value_counts()\n",
        "    total = len(column)\n",
        "    ent = 0\n",
        "    for count in counts:\n",
        "        p = count / total\n",
        "        ent -= p * math.log2(p)\n",
        "    return ent\n",
        "\n",
        "# Calculate overall entropy (target)\n",
        "target_entropy = entropy(df['Result'])\n",
        "print(\"Entropy of Result:\", round(target_entropy, 3))\n",
        "\n",
        "# Function to calculate information gain\n",
        "def info_gain(df, feature, target='Result'):\n",
        "    total_entropy = entropy(df[target])\n",
        "    values = df[feature].unique()\n",
        "    weighted_entropy = 0\n",
        "    for v in values:\n",
        "        subset = df[df[feature] == v]\n",
        "        weighted_entropy += (len(subset)/len(df)) * entropy(subset[target])\n",
        "    gain = total_entropy - weighted_entropy\n",
        "    return round(gain, 3)\n",
        "\n",
        "# Compute information gain for each feature\n",
        "for feature in ['U/PA', 'Research', 'Rec Admit']:\n",
        "    print(f\"Information Gain for {feature}: {info_gain(df, feature)}\")"
      ]
    }
  ]
}